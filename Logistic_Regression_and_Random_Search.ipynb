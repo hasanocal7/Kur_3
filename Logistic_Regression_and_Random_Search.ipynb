{
  "nbformat": 4,
  "nbformat_minor": 0,
  "metadata": {
    "colab": {
      "provenance": [],
      "authorship_tag": "ABX9TyMhuZDWoMkuXJ8HK92/W5YG",
      "include_colab_link": true
    },
    "kernelspec": {
      "name": "python3",
      "display_name": "Python 3"
    },
    "language_info": {
      "name": "python"
    }
  },
  "cells": [
    {
      "cell_type": "markdown",
      "metadata": {
        "id": "view-in-github",
        "colab_type": "text"
      },
      "source": [
        "<a href=\"https://colab.research.google.com/github/hasanocal7/Kur_3/blob/main/Logistic_Regression_and_Random_Search.ipynb\" target=\"_parent\"><img src=\"https://colab.research.google.com/assets/colab-badge.svg\" alt=\"Open In Colab\"/></a>"
      ]
    },
    {
      "cell_type": "code",
      "execution_count": 3,
      "metadata": {
        "id": "SBHpJSN2zC3W"
      },
      "outputs": [],
      "source": [
        "import numpy as np\n",
        "import pandas as pd\n",
        "\n",
        "from sklearn.datasets import make_classification\n",
        "from sklearn.model_selection import train_test_split\n",
        "from sklearn.linear_model import LogisticRegression\n",
        "from sklearn.metrics import classification_report"
      ]
    },
    {
      "cell_type": "code",
      "source": [
        "X, y = make_classification(n_samples = 2000, n_features = 50, n_informative = 10, random_state = 812, n_classes = 2)\n",
        "\n",
        "X"
      ],
      "metadata": {
        "id": "V5cxexiDzLhh",
        "colab": {
          "base_uri": "https://localhost:8080/"
        },
        "outputId": "a5f71e18-f670-4519-f9bd-5e7c50094e46"
      },
      "execution_count": 5,
      "outputs": [
        {
          "output_type": "execute_result",
          "data": {
            "text/plain": [
              "array([[ 1.23173717,  1.10532801,  0.22776564, ..., -0.78356596,\n",
              "        -0.15711703, -1.65414508],\n",
              "       [ 0.48439638, -0.14303632, -2.51423517, ...,  0.60566089,\n",
              "        -0.13130922, -0.21336398],\n",
              "       [ 1.43086386, -0.13222191, -0.97300061, ..., -1.24373168,\n",
              "        -0.8441854 , -1.68326389],\n",
              "       ...,\n",
              "       [ 1.31133403,  0.03317187,  2.49820238, ..., -0.42860444,\n",
              "         1.11198425, -0.37050314],\n",
              "       [ 1.40062972, -0.98004073, -0.89407227, ...,  1.63212064,\n",
              "         0.06716772,  1.21445157],\n",
              "       [ 0.44062982, -0.17520526,  3.96299506, ...,  0.25240773,\n",
              "        -0.095253  ,  0.83673848]])"
            ]
          },
          "metadata": {},
          "execution_count": 5
        }
      ]
    },
    {
      "cell_type": "code",
      "source": [
        "y"
      ],
      "metadata": {
        "colab": {
          "base_uri": "https://localhost:8080/"
        },
        "id": "Q1x76-c49QjQ",
        "outputId": "c5e72e7d-27e7-437a-c2b5-70dd046e87c0"
      },
      "execution_count": 6,
      "outputs": [
        {
          "output_type": "execute_result",
          "data": {
            "text/plain": [
              "array([0, 0, 0, ..., 0, 1, 0])"
            ]
          },
          "metadata": {},
          "execution_count": 6
        }
      ]
    },
    {
      "cell_type": "code",
      "source": [
        "X_train, X_test, y_train, y_test = train_test_split(X, y, random_state = 42, train_size = 0.8)"
      ],
      "metadata": {
        "id": "VTkm9EFA9fSp"
      },
      "execution_count": 8,
      "outputs": []
    },
    {
      "cell_type": "code",
      "source": [
        "vanilla_lr = LogisticRegression()"
      ],
      "metadata": {
        "id": "eLzbAK2e9wFa"
      },
      "execution_count": 9,
      "outputs": []
    },
    {
      "cell_type": "code",
      "source": [
        "vanilla_lr.fit(X_train, y_train)"
      ],
      "metadata": {
        "colab": {
          "base_uri": "https://localhost:8080/",
          "height": 74
        },
        "id": "IjfrY-HZ-GGW",
        "outputId": "7b7aa524-b545-4d68-8821-b57101e25019"
      },
      "execution_count": 10,
      "outputs": [
        {
          "output_type": "execute_result",
          "data": {
            "text/plain": [
              "LogisticRegression()"
            ],
            "text/html": [
              "<style>#sk-container-id-1 {color: black;background-color: white;}#sk-container-id-1 pre{padding: 0;}#sk-container-id-1 div.sk-toggleable {background-color: white;}#sk-container-id-1 label.sk-toggleable__label {cursor: pointer;display: block;width: 100%;margin-bottom: 0;padding: 0.3em;box-sizing: border-box;text-align: center;}#sk-container-id-1 label.sk-toggleable__label-arrow:before {content: \"▸\";float: left;margin-right: 0.25em;color: #696969;}#sk-container-id-1 label.sk-toggleable__label-arrow:hover:before {color: black;}#sk-container-id-1 div.sk-estimator:hover label.sk-toggleable__label-arrow:before {color: black;}#sk-container-id-1 div.sk-toggleable__content {max-height: 0;max-width: 0;overflow: hidden;text-align: left;background-color: #f0f8ff;}#sk-container-id-1 div.sk-toggleable__content pre {margin: 0.2em;color: black;border-radius: 0.25em;background-color: #f0f8ff;}#sk-container-id-1 input.sk-toggleable__control:checked~div.sk-toggleable__content {max-height: 200px;max-width: 100%;overflow: auto;}#sk-container-id-1 input.sk-toggleable__control:checked~label.sk-toggleable__label-arrow:before {content: \"▾\";}#sk-container-id-1 div.sk-estimator input.sk-toggleable__control:checked~label.sk-toggleable__label {background-color: #d4ebff;}#sk-container-id-1 div.sk-label input.sk-toggleable__control:checked~label.sk-toggleable__label {background-color: #d4ebff;}#sk-container-id-1 input.sk-hidden--visually {border: 0;clip: rect(1px 1px 1px 1px);clip: rect(1px, 1px, 1px, 1px);height: 1px;margin: -1px;overflow: hidden;padding: 0;position: absolute;width: 1px;}#sk-container-id-1 div.sk-estimator {font-family: monospace;background-color: #f0f8ff;border: 1px dotted black;border-radius: 0.25em;box-sizing: border-box;margin-bottom: 0.5em;}#sk-container-id-1 div.sk-estimator:hover {background-color: #d4ebff;}#sk-container-id-1 div.sk-parallel-item::after {content: \"\";width: 100%;border-bottom: 1px solid gray;flex-grow: 1;}#sk-container-id-1 div.sk-label:hover label.sk-toggleable__label {background-color: #d4ebff;}#sk-container-id-1 div.sk-serial::before {content: \"\";position: absolute;border-left: 1px solid gray;box-sizing: border-box;top: 0;bottom: 0;left: 50%;z-index: 0;}#sk-container-id-1 div.sk-serial {display: flex;flex-direction: column;align-items: center;background-color: white;padding-right: 0.2em;padding-left: 0.2em;position: relative;}#sk-container-id-1 div.sk-item {position: relative;z-index: 1;}#sk-container-id-1 div.sk-parallel {display: flex;align-items: stretch;justify-content: center;background-color: white;position: relative;}#sk-container-id-1 div.sk-item::before, #sk-container-id-1 div.sk-parallel-item::before {content: \"\";position: absolute;border-left: 1px solid gray;box-sizing: border-box;top: 0;bottom: 0;left: 50%;z-index: -1;}#sk-container-id-1 div.sk-parallel-item {display: flex;flex-direction: column;z-index: 1;position: relative;background-color: white;}#sk-container-id-1 div.sk-parallel-item:first-child::after {align-self: flex-end;width: 50%;}#sk-container-id-1 div.sk-parallel-item:last-child::after {align-self: flex-start;width: 50%;}#sk-container-id-1 div.sk-parallel-item:only-child::after {width: 0;}#sk-container-id-1 div.sk-dashed-wrapped {border: 1px dashed gray;margin: 0 0.4em 0.5em 0.4em;box-sizing: border-box;padding-bottom: 0.4em;background-color: white;}#sk-container-id-1 div.sk-label label {font-family: monospace;font-weight: bold;display: inline-block;line-height: 1.2em;}#sk-container-id-1 div.sk-label-container {text-align: center;}#sk-container-id-1 div.sk-container {/* jupyter's `normalize.less` sets `[hidden] { display: none; }` but bootstrap.min.css set `[hidden] { display: none !important; }` so we also need the `!important` here to be able to override the default hidden behavior on the sphinx rendered scikit-learn.org. See: https://github.com/scikit-learn/scikit-learn/issues/21755 */display: inline-block !important;position: relative;}#sk-container-id-1 div.sk-text-repr-fallback {display: none;}</style><div id=\"sk-container-id-1\" class=\"sk-top-container\"><div class=\"sk-text-repr-fallback\"><pre>LogisticRegression()</pre><b>In a Jupyter environment, please rerun this cell to show the HTML representation or trust the notebook. <br />On GitHub, the HTML representation is unable to render, please try loading this page with nbviewer.org.</b></div><div class=\"sk-container\" hidden><div class=\"sk-item\"><div class=\"sk-estimator sk-toggleable\"><input class=\"sk-toggleable__control sk-hidden--visually\" id=\"sk-estimator-id-1\" type=\"checkbox\" checked><label for=\"sk-estimator-id-1\" class=\"sk-toggleable__label sk-toggleable__label-arrow\">LogisticRegression</label><div class=\"sk-toggleable__content\"><pre>LogisticRegression()</pre></div></div></div></div></div>"
            ]
          },
          "metadata": {},
          "execution_count": 10
        }
      ]
    },
    {
      "cell_type": "code",
      "source": [
        "y_pred = vanilla_lr.predict(X_test)"
      ],
      "metadata": {
        "id": "U21p_sKw-N8G"
      },
      "execution_count": 11,
      "outputs": []
    },
    {
      "cell_type": "code",
      "source": [
        "print(classification_report(y_test, y_pred))"
      ],
      "metadata": {
        "colab": {
          "base_uri": "https://localhost:8080/"
        },
        "id": "RLSPb16s-WNw",
        "outputId": "4f72fa7a-f4dc-4550-bab6-edd328b9ea1c"
      },
      "execution_count": 12,
      "outputs": [
        {
          "output_type": "stream",
          "name": "stdout",
          "text": [
            "              precision    recall  f1-score   support\n",
            "\n",
            "           0       0.69      0.76      0.72       187\n",
            "           1       0.77      0.70      0.74       213\n",
            "\n",
            "    accuracy                           0.73       400\n",
            "   macro avg       0.73      0.73      0.73       400\n",
            "weighted avg       0.73      0.73      0.73       400\n",
            "\n"
          ]
        }
      ]
    },
    {
      "cell_type": "markdown",
      "source": [
        "# Hyperparameter Tuning"
      ],
      "metadata": {
        "id": "3hv-sngL-2BE"
      }
    },
    {
      "cell_type": "code",
      "source": [
        "from sklearn.model_selection import RandomizedSearchCV\n",
        "# GridSearch ile benzer çaışma mantığı"
      ],
      "metadata": {
        "id": "iP7j0R3T-cPN"
      },
      "execution_count": 13,
      "outputs": []
    },
    {
      "cell_type": "code",
      "source": [
        "param_dist = {\n",
        "    \"C\" :  [0.01, 0.1, 1, 10, 100],\n",
        "    # Verisetin gerçek hayatı ne kadar ölçüde yansıtıyor\n",
        "    # Büyük C datasetime güveniyorum\n",
        "    # Küçük C güvenmiyorum\n",
        "    \"penalty\" : [\"l1\",\"l2\"],\n",
        "    \"solver\" : [\"saga\", \"liblinear\"]\n",
        "}"
      ],
      "metadata": {
        "id": "tibqtLP0_K2D"
      },
      "execution_count": 17,
      "outputs": []
    },
    {
      "cell_type": "code",
      "source": [
        "tune_model = LogisticRegression()"
      ],
      "metadata": {
        "id": "TBweD5K9A5cc"
      },
      "execution_count": 18,
      "outputs": []
    },
    {
      "cell_type": "code",
      "source": [
        "random_search = RandomizedSearchCV(tune_model, param_dist, cv = 5, n_iter = 5, verbose = 1)"
      ],
      "metadata": {
        "id": "ah_sumyfA9th"
      },
      "execution_count": 29,
      "outputs": []
    },
    {
      "cell_type": "code",
      "source": [
        "random_search.fit(X_train, y_train)"
      ],
      "metadata": {
        "colab": {
          "base_uri": "https://localhost:8080/",
          "height": 353
        },
        "id": "_4gWzu5gBnWc",
        "outputId": "0a2453fb-7cf6-4339-ae5c-6a66f9d9e403"
      },
      "execution_count": 30,
      "outputs": [
        {
          "output_type": "stream",
          "name": "stdout",
          "text": [
            "Fitting 5 folds for each of 5 candidates, totalling 25 fits\n"
          ]
        },
        {
          "output_type": "stream",
          "name": "stderr",
          "text": [
            "/usr/local/lib/python3.10/dist-packages/sklearn/linear_model/_sag.py:350: ConvergenceWarning: The max_iter was reached which means the coef_ did not converge\n",
            "  warnings.warn(\n",
            "/usr/local/lib/python3.10/dist-packages/sklearn/linear_model/_sag.py:350: ConvergenceWarning: The max_iter was reached which means the coef_ did not converge\n",
            "  warnings.warn(\n",
            "/usr/local/lib/python3.10/dist-packages/sklearn/linear_model/_sag.py:350: ConvergenceWarning: The max_iter was reached which means the coef_ did not converge\n",
            "  warnings.warn(\n",
            "/usr/local/lib/python3.10/dist-packages/sklearn/linear_model/_sag.py:350: ConvergenceWarning: The max_iter was reached which means the coef_ did not converge\n",
            "  warnings.warn(\n",
            "/usr/local/lib/python3.10/dist-packages/sklearn/linear_model/_sag.py:350: ConvergenceWarning: The max_iter was reached which means the coef_ did not converge\n",
            "  warnings.warn(\n",
            "/usr/local/lib/python3.10/dist-packages/sklearn/linear_model/_sag.py:350: ConvergenceWarning: The max_iter was reached which means the coef_ did not converge\n",
            "  warnings.warn(\n"
          ]
        },
        {
          "output_type": "execute_result",
          "data": {
            "text/plain": [
              "RandomizedSearchCV(cv=5, estimator=LogisticRegression(), n_iter=5,\n",
              "                   param_distributions={'C': [0.01, 0.1, 1, 10, 100],\n",
              "                                        'penalty': ['l1', 'l2'],\n",
              "                                        'solver': ['saga', 'liblinear']},\n",
              "                   verbose=1)"
            ],
            "text/html": [
              "<style>#sk-container-id-4 {color: black;background-color: white;}#sk-container-id-4 pre{padding: 0;}#sk-container-id-4 div.sk-toggleable {background-color: white;}#sk-container-id-4 label.sk-toggleable__label {cursor: pointer;display: block;width: 100%;margin-bottom: 0;padding: 0.3em;box-sizing: border-box;text-align: center;}#sk-container-id-4 label.sk-toggleable__label-arrow:before {content: \"▸\";float: left;margin-right: 0.25em;color: #696969;}#sk-container-id-4 label.sk-toggleable__label-arrow:hover:before {color: black;}#sk-container-id-4 div.sk-estimator:hover label.sk-toggleable__label-arrow:before {color: black;}#sk-container-id-4 div.sk-toggleable__content {max-height: 0;max-width: 0;overflow: hidden;text-align: left;background-color: #f0f8ff;}#sk-container-id-4 div.sk-toggleable__content pre {margin: 0.2em;color: black;border-radius: 0.25em;background-color: #f0f8ff;}#sk-container-id-4 input.sk-toggleable__control:checked~div.sk-toggleable__content {max-height: 200px;max-width: 100%;overflow: auto;}#sk-container-id-4 input.sk-toggleable__control:checked~label.sk-toggleable__label-arrow:before {content: \"▾\";}#sk-container-id-4 div.sk-estimator input.sk-toggleable__control:checked~label.sk-toggleable__label {background-color: #d4ebff;}#sk-container-id-4 div.sk-label input.sk-toggleable__control:checked~label.sk-toggleable__label {background-color: #d4ebff;}#sk-container-id-4 input.sk-hidden--visually {border: 0;clip: rect(1px 1px 1px 1px);clip: rect(1px, 1px, 1px, 1px);height: 1px;margin: -1px;overflow: hidden;padding: 0;position: absolute;width: 1px;}#sk-container-id-4 div.sk-estimator {font-family: monospace;background-color: #f0f8ff;border: 1px dotted black;border-radius: 0.25em;box-sizing: border-box;margin-bottom: 0.5em;}#sk-container-id-4 div.sk-estimator:hover {background-color: #d4ebff;}#sk-container-id-4 div.sk-parallel-item::after {content: \"\";width: 100%;border-bottom: 1px solid gray;flex-grow: 1;}#sk-container-id-4 div.sk-label:hover label.sk-toggleable__label {background-color: #d4ebff;}#sk-container-id-4 div.sk-serial::before {content: \"\";position: absolute;border-left: 1px solid gray;box-sizing: border-box;top: 0;bottom: 0;left: 50%;z-index: 0;}#sk-container-id-4 div.sk-serial {display: flex;flex-direction: column;align-items: center;background-color: white;padding-right: 0.2em;padding-left: 0.2em;position: relative;}#sk-container-id-4 div.sk-item {position: relative;z-index: 1;}#sk-container-id-4 div.sk-parallel {display: flex;align-items: stretch;justify-content: center;background-color: white;position: relative;}#sk-container-id-4 div.sk-item::before, #sk-container-id-4 div.sk-parallel-item::before {content: \"\";position: absolute;border-left: 1px solid gray;box-sizing: border-box;top: 0;bottom: 0;left: 50%;z-index: -1;}#sk-container-id-4 div.sk-parallel-item {display: flex;flex-direction: column;z-index: 1;position: relative;background-color: white;}#sk-container-id-4 div.sk-parallel-item:first-child::after {align-self: flex-end;width: 50%;}#sk-container-id-4 div.sk-parallel-item:last-child::after {align-self: flex-start;width: 50%;}#sk-container-id-4 div.sk-parallel-item:only-child::after {width: 0;}#sk-container-id-4 div.sk-dashed-wrapped {border: 1px dashed gray;margin: 0 0.4em 0.5em 0.4em;box-sizing: border-box;padding-bottom: 0.4em;background-color: white;}#sk-container-id-4 div.sk-label label {font-family: monospace;font-weight: bold;display: inline-block;line-height: 1.2em;}#sk-container-id-4 div.sk-label-container {text-align: center;}#sk-container-id-4 div.sk-container {/* jupyter's `normalize.less` sets `[hidden] { display: none; }` but bootstrap.min.css set `[hidden] { display: none !important; }` so we also need the `!important` here to be able to override the default hidden behavior on the sphinx rendered scikit-learn.org. See: https://github.com/scikit-learn/scikit-learn/issues/21755 */display: inline-block !important;position: relative;}#sk-container-id-4 div.sk-text-repr-fallback {display: none;}</style><div id=\"sk-container-id-4\" class=\"sk-top-container\"><div class=\"sk-text-repr-fallback\"><pre>RandomizedSearchCV(cv=5, estimator=LogisticRegression(), n_iter=5,\n",
              "                   param_distributions={&#x27;C&#x27;: [0.01, 0.1, 1, 10, 100],\n",
              "                                        &#x27;penalty&#x27;: [&#x27;l1&#x27;, &#x27;l2&#x27;],\n",
              "                                        &#x27;solver&#x27;: [&#x27;saga&#x27;, &#x27;liblinear&#x27;]},\n",
              "                   verbose=1)</pre><b>In a Jupyter environment, please rerun this cell to show the HTML representation or trust the notebook. <br />On GitHub, the HTML representation is unable to render, please try loading this page with nbviewer.org.</b></div><div class=\"sk-container\" hidden><div class=\"sk-item sk-dashed-wrapped\"><div class=\"sk-label-container\"><div class=\"sk-label sk-toggleable\"><input class=\"sk-toggleable__control sk-hidden--visually\" id=\"sk-estimator-id-6\" type=\"checkbox\" ><label for=\"sk-estimator-id-6\" class=\"sk-toggleable__label sk-toggleable__label-arrow\">RandomizedSearchCV</label><div class=\"sk-toggleable__content\"><pre>RandomizedSearchCV(cv=5, estimator=LogisticRegression(), n_iter=5,\n",
              "                   param_distributions={&#x27;C&#x27;: [0.01, 0.1, 1, 10, 100],\n",
              "                                        &#x27;penalty&#x27;: [&#x27;l1&#x27;, &#x27;l2&#x27;],\n",
              "                                        &#x27;solver&#x27;: [&#x27;saga&#x27;, &#x27;liblinear&#x27;]},\n",
              "                   verbose=1)</pre></div></div></div><div class=\"sk-parallel\"><div class=\"sk-parallel-item\"><div class=\"sk-item\"><div class=\"sk-label-container\"><div class=\"sk-label sk-toggleable\"><input class=\"sk-toggleable__control sk-hidden--visually\" id=\"sk-estimator-id-7\" type=\"checkbox\" ><label for=\"sk-estimator-id-7\" class=\"sk-toggleable__label sk-toggleable__label-arrow\">estimator: LogisticRegression</label><div class=\"sk-toggleable__content\"><pre>LogisticRegression()</pre></div></div></div><div class=\"sk-serial\"><div class=\"sk-item\"><div class=\"sk-estimator sk-toggleable\"><input class=\"sk-toggleable__control sk-hidden--visually\" id=\"sk-estimator-id-8\" type=\"checkbox\" ><label for=\"sk-estimator-id-8\" class=\"sk-toggleable__label sk-toggleable__label-arrow\">LogisticRegression</label><div class=\"sk-toggleable__content\"><pre>LogisticRegression()</pre></div></div></div></div></div></div></div></div></div></div>"
            ]
          },
          "metadata": {},
          "execution_count": 30
        }
      ]
    },
    {
      "cell_type": "code",
      "source": [
        "random_search.best_params_"
      ],
      "metadata": {
        "colab": {
          "base_uri": "https://localhost:8080/"
        },
        "id": "axijjmZpB9aX",
        "outputId": "577b7ce9-18dc-4dd6-ea04-c7f80de12892"
      },
      "execution_count": 31,
      "outputs": [
        {
          "output_type": "execute_result",
          "data": {
            "text/plain": [
              "{'solver': 'saga', 'penalty': 'l1', 'C': 1}"
            ]
          },
          "metadata": {},
          "execution_count": 31
        }
      ]
    },
    {
      "cell_type": "code",
      "source": [
        "best_model = random_search.best_estimator_"
      ],
      "metadata": {
        "id": "fYv5svPFCHSa"
      },
      "execution_count": 32,
      "outputs": []
    },
    {
      "cell_type": "code",
      "source": [
        "y_pred = best_model.predict(X_test)"
      ],
      "metadata": {
        "id": "Lc8XuSL0Ceml"
      },
      "execution_count": 33,
      "outputs": []
    },
    {
      "cell_type": "code",
      "source": [
        "print(classification_report(y_test, y_pred, digits = 3))"
      ],
      "metadata": {
        "colab": {
          "base_uri": "https://localhost:8080/"
        },
        "id": "kpx0gvWdCPMS",
        "outputId": "f8fda112-3a4d-4971-ef6f-7a5deab8d471"
      },
      "execution_count": 34,
      "outputs": [
        {
          "output_type": "stream",
          "name": "stdout",
          "text": [
            "              precision    recall  f1-score   support\n",
            "\n",
            "           0      0.691     0.754     0.721       187\n",
            "           1      0.765     0.704     0.733       213\n",
            "\n",
            "    accuracy                          0.728       400\n",
            "   macro avg      0.728     0.729     0.727       400\n",
            "weighted avg      0.731     0.728     0.728       400\n",
            "\n"
          ]
        }
      ]
    },
    {
      "cell_type": "code",
      "source": [
        "tuned_probas = best_model.predict_proba(X_test)[:, 1]\n",
        "tuned_probas"
      ],
      "metadata": {
        "colab": {
          "base_uri": "https://localhost:8080/"
        },
        "id": "ZyNpDWG4ClQb",
        "outputId": "316936f8-edd5-4a23-f579-e93a75ea1768"
      },
      "execution_count": 35,
      "outputs": [
        {
          "output_type": "execute_result",
          "data": {
            "text/plain": [
              "array([0.93788942, 0.66638773, 0.83202023, 0.41991771, 0.75854922,\n",
              "       0.74791648, 0.37374344, 0.93841681, 0.9310206 , 0.28963968,\n",
              "       0.89805008, 0.70290016, 0.61516996, 0.23478161, 0.91205055,\n",
              "       0.48825326, 0.32427351, 0.42564336, 0.95963352, 0.62825019,\n",
              "       0.27439291, 0.61747263, 0.04401193, 0.74380465, 0.08047815,\n",
              "       0.31853303, 0.04981681, 0.17749084, 0.96200023, 0.80299462,\n",
              "       0.2014121 , 0.68041909, 0.2195676 , 0.41929387, 0.73065418,\n",
              "       0.07845937, 0.9831193 , 0.62912276, 0.31523576, 0.87114754,\n",
              "       0.23769825, 0.22727389, 0.6950789 , 0.34037443, 0.57794353,\n",
              "       0.19646675, 0.33495768, 0.99345489, 0.99391669, 0.86274764,\n",
              "       0.5066727 , 0.33915629, 0.21457539, 0.53186746, 0.21672131,\n",
              "       0.23912126, 0.0417351 , 0.22314976, 0.70038254, 0.1615942 ,\n",
              "       0.78799706, 0.09123176, 0.40251659, 0.7207201 , 0.42979251,\n",
              "       0.60212524, 0.34457993, 0.69993738, 0.34907155, 0.07933136,\n",
              "       0.04607905, 0.44650912, 0.30477793, 0.55071479, 0.09215655,\n",
              "       0.09077886, 0.26042969, 0.91150277, 0.23529446, 0.05592228,\n",
              "       0.2521654 , 0.99138365, 0.77413914, 0.83003186, 0.08145926,\n",
              "       0.88471243, 0.34028064, 0.94207149, 0.26499965, 0.01613353,\n",
              "       0.48043609, 0.48317184, 0.45739991, 0.26512686, 0.34345051,\n",
              "       0.25301699, 0.47801025, 0.02634397, 0.28809121, 0.19107525,\n",
              "       0.50836322, 0.42372393, 0.57776804, 0.10507933, 0.01572746,\n",
              "       0.31397016, 0.98434111, 0.05967993, 0.591456  , 0.11104621,\n",
              "       0.23824532, 0.45703199, 0.18600428, 0.07581876, 0.69287324,\n",
              "       0.9696295 , 0.10185853, 0.86169774, 0.07138794, 0.94003561,\n",
              "       0.42656075, 0.87372623, 0.80422053, 0.81036973, 0.66775933,\n",
              "       0.8064757 , 0.5131475 , 0.02586292, 0.21059043, 0.53017931,\n",
              "       0.2235134 , 0.37665828, 0.88875854, 0.30824472, 0.31906713,\n",
              "       0.08756539, 0.07024629, 0.09821117, 0.00346274, 0.21915709,\n",
              "       0.31841477, 0.57228057, 0.21676076, 0.45832834, 0.59355389,\n",
              "       0.52896717, 0.57665063, 0.22948825, 0.0637413 , 0.68595074,\n",
              "       0.85855679, 0.77312675, 0.14781328, 0.27429054, 0.02656269,\n",
              "       0.85126082, 0.27690095, 0.10188017, 0.25034813, 0.64708539,\n",
              "       0.16827053, 0.53828739, 0.27731359, 0.70265327, 0.36226019,\n",
              "       0.84706295, 0.57275303, 0.49890179, 0.97717832, 0.4839927 ,\n",
              "       0.08555106, 0.54160748, 0.74960947, 0.54078713, 0.549494  ,\n",
              "       0.4273699 , 0.9969388 , 0.28350755, 0.88891548, 0.0373879 ,\n",
              "       0.83847994, 0.33287668, 0.45935315, 0.90531465, 0.56163567,\n",
              "       0.64303951, 0.9342688 , 0.03970087, 0.91463237, 0.54893561,\n",
              "       0.06944891, 0.86420736, 0.76304857, 0.59126953, 0.83594786,\n",
              "       0.66798449, 0.0804143 , 0.99249918, 0.07088549, 0.9823294 ,\n",
              "       0.12806721, 0.16269082, 0.55378908, 0.37591132, 0.80541738,\n",
              "       0.89998184, 0.93948599, 0.34234302, 0.57838559, 0.76087232,\n",
              "       0.39037446, 0.98332828, 0.16751633, 0.74765169, 0.05665908,\n",
              "       0.2114483 , 0.28114854, 0.87776684, 0.31455143, 0.36538612,\n",
              "       0.16915817, 0.95876992, 0.14672702, 0.05442269, 0.68298048,\n",
              "       0.04340827, 0.17617305, 0.69338407, 0.17037259, 0.08529008,\n",
              "       0.5152115 , 0.50424971, 0.57652979, 0.62218488, 0.16656527,\n",
              "       0.02750646, 0.37463024, 0.75838093, 0.30094558, 0.63662365,\n",
              "       0.03788027, 0.95741989, 0.12742149, 0.09022628, 0.97188135,\n",
              "       0.95392228, 0.39059238, 0.39499611, 0.50898799, 0.88912323,\n",
              "       0.25205818, 0.71434353, 0.96157706, 0.59156967, 0.80438138,\n",
              "       0.15971746, 0.74761878, 0.51335701, 0.29270729, 0.45045466,\n",
              "       0.19487715, 0.8604813 , 0.19225105, 0.08933792, 0.30120721,\n",
              "       0.85304885, 0.20956251, 0.56991514, 0.52277249, 0.82682714,\n",
              "       0.04352204, 0.43562499, 0.84496444, 0.69786737, 0.9518291 ,\n",
              "       0.79547313, 0.50224051, 0.46320743, 0.07177165, 0.30357331,\n",
              "       0.37816681, 0.53953883, 0.07173758, 0.32052911, 0.86915226,\n",
              "       0.71598946, 0.94331239, 0.62035071, 0.50314923, 0.94553889,\n",
              "       0.40917036, 0.15620059, 0.79860421, 0.93166171, 0.79369722,\n",
              "       0.48895249, 0.23645029, 0.76481928, 0.45441589, 0.85621601,\n",
              "       0.38888677, 0.6924174 , 0.04666093, 0.82545334, 0.18630432,\n",
              "       0.44103083, 0.24159787, 0.13583333, 0.13525122, 0.90736947,\n",
              "       0.20348498, 0.60648274, 0.71411176, 0.10140686, 0.64633867,\n",
              "       0.80468086, 0.84195638, 0.58059587, 0.16165422, 0.10494243,\n",
              "       0.27223824, 0.03464064, 0.66005683, 0.51591879, 0.86009066,\n",
              "       0.92088193, 0.04618416, 0.84580267, 0.64510764, 0.59932262,\n",
              "       0.52359958, 0.15625516, 0.94195124, 0.02833955, 0.88055979,\n",
              "       0.73331303, 0.19675189, 0.60868047, 0.93108039, 0.93262995,\n",
              "       0.13169687, 0.65675586, 0.95340257, 0.22286903, 0.84472814,\n",
              "       0.22667343, 0.91115229, 0.7820456 , 0.15172496, 0.6752272 ,\n",
              "       0.20846928, 0.78636768, 0.00186269, 0.96014222, 0.50607847,\n",
              "       0.47679434, 0.46486682, 0.9415285 , 0.90116069, 0.21618472,\n",
              "       0.17397701, 0.89434706, 0.71413609, 0.99051569, 0.07215692,\n",
              "       0.41691618, 0.27265053, 0.81780847, 0.01329518, 0.92700732,\n",
              "       0.3901011 , 0.92842432, 0.29617587, 0.01963682, 0.95735727,\n",
              "       0.9242765 , 0.99299421, 0.4503415 , 0.57728627, 0.67546252,\n",
              "       0.48010903, 0.48939367, 0.49158387, 0.04236489, 0.52523087,\n",
              "       0.6489819 , 0.22953574, 0.85191893, 0.8168537 , 0.01348975,\n",
              "       0.20880217, 0.07383088, 0.03443909, 0.89378255, 0.60333398,\n",
              "       0.07166012, 0.76520541, 0.90796952, 0.92035225, 0.03907984])"
            ]
          },
          "metadata": {},
          "execution_count": 35
        }
      ]
    },
    {
      "cell_type": "code",
      "source": [
        "np.where(tuned_probas > 0.5, 1, 0)"
      ],
      "metadata": {
        "colab": {
          "base_uri": "https://localhost:8080/"
        },
        "id": "TSZya5irDmQg",
        "outputId": "fdd81a1f-9b15-4fd5-c7f0-cbe932545862"
      },
      "execution_count": 39,
      "outputs": [
        {
          "output_type": "execute_result",
          "data": {
            "text/plain": [
              "array([1, 1, 1, 0, 1, 1, 0, 1, 1, 0, 1, 1, 1, 0, 1, 0, 0, 0, 1, 1, 0, 1,\n",
              "       0, 1, 0, 0, 0, 0, 1, 1, 0, 1, 0, 0, 1, 0, 1, 1, 0, 1, 0, 0, 1, 0,\n",
              "       1, 0, 0, 1, 1, 1, 1, 0, 0, 1, 0, 0, 0, 0, 1, 0, 1, 0, 0, 1, 0, 1,\n",
              "       0, 1, 0, 0, 0, 0, 0, 1, 0, 0, 0, 1, 0, 0, 0, 1, 1, 1, 0, 1, 0, 1,\n",
              "       0, 0, 0, 0, 0, 0, 0, 0, 0, 0, 0, 0, 1, 0, 1, 0, 0, 0, 1, 0, 1, 0,\n",
              "       0, 0, 0, 0, 1, 1, 0, 1, 0, 1, 0, 1, 1, 1, 1, 1, 1, 0, 0, 1, 0, 0,\n",
              "       1, 0, 0, 0, 0, 0, 0, 0, 0, 1, 0, 0, 1, 1, 1, 0, 0, 1, 1, 1, 0, 0,\n",
              "       0, 1, 0, 0, 0, 1, 0, 1, 0, 1, 0, 1, 1, 0, 1, 0, 0, 1, 1, 1, 1, 0,\n",
              "       1, 0, 1, 0, 1, 0, 0, 1, 1, 1, 1, 0, 1, 1, 0, 1, 1, 1, 1, 1, 0, 1,\n",
              "       0, 1, 0, 0, 1, 0, 1, 1, 1, 0, 1, 1, 0, 1, 0, 1, 0, 0, 0, 1, 0, 0,\n",
              "       0, 1, 0, 0, 1, 0, 0, 1, 0, 0, 1, 1, 1, 1, 0, 0, 0, 1, 0, 1, 0, 1,\n",
              "       0, 0, 1, 1, 0, 0, 1, 1, 0, 1, 1, 1, 1, 0, 1, 1, 0, 0, 0, 1, 0, 0,\n",
              "       0, 1, 0, 1, 1, 1, 0, 0, 1, 1, 1, 1, 1, 0, 0, 0, 0, 1, 0, 0, 1, 1,\n",
              "       1, 1, 1, 1, 0, 0, 1, 1, 1, 0, 0, 1, 0, 1, 0, 1, 0, 1, 0, 0, 0, 0,\n",
              "       0, 1, 0, 1, 1, 0, 1, 1, 1, 1, 0, 0, 0, 0, 1, 1, 1, 1, 0, 1, 1, 1,\n",
              "       1, 0, 1, 0, 1, 1, 0, 1, 1, 1, 0, 1, 1, 0, 1, 0, 1, 1, 0, 1, 0, 1,\n",
              "       0, 1, 1, 0, 0, 1, 1, 0, 0, 1, 1, 1, 0, 0, 0, 1, 0, 1, 0, 1, 0, 0,\n",
              "       1, 1, 1, 0, 1, 1, 0, 0, 0, 0, 1, 1, 0, 1, 1, 0, 0, 0, 0, 1, 1, 0,\n",
              "       1, 1, 1, 0])"
            ]
          },
          "metadata": {},
          "execution_count": 39
        }
      ]
    },
    {
      "cell_type": "code",
      "source": [],
      "metadata": {
        "id": "US0E_2e-D5cZ"
      },
      "execution_count": null,
      "outputs": []
    }
  ]
}